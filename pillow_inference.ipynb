{
 "cells": [
  {
   "cell_type": "code",
   "execution_count": 14,
   "metadata": {},
   "outputs": [],
   "source": [
    "import numpy as np\n",
    "import cv2\n",
    "import matplotlib.pyplot as plt\n",
    "\n",
    "import tensorflow as tf\n",
    "from tensorflow.keras.layers import GlobalMaxPooling2D, Input\n",
    "\n",
    "import pickle\n",
    "\n",
    "from sklearn.neighbors import NearestNeighbors\n",
    "from PIL import Image"
   ]
  },
  {
   "cell_type": "code",
   "execution_count": 15,
   "metadata": {},
   "outputs": [],
   "source": [
    "#Dataset from kaggle https://www.kaggle.com/datasets/vikashrajluhaniwal/fashion-images\n",
    "\n",
    "f_vectors = pickle.load(open('f_vectors.pkl', 'rb'))\n",
    "f_vectors = np.array(f_vectors)\n",
    "file_names = pickle.load(open('filenames.pkl', 'rb'))"
   ]
  },
  {
   "cell_type": "code",
   "execution_count": 16,
   "metadata": {},
   "outputs": [],
   "source": [
    "feature_model = tf.keras.applications.resnet50.ResNet50(weights='imagenet', include_top=False,\n",
    "                                                       input_shape=(224,224,3))\n",
    "feature_model.trainable = False\n",
    "\n",
    "preprocess_layer = tf.keras.applications.resnet50.preprocess_input\n",
    "\n",
    "inputs = Input(shape=(224,224,3))\n",
    "x = preprocess_layer(inputs)\n",
    "x = feature_model(x)\n",
    "output = GlobalMaxPooling2D()(x)\n",
    "\n",
    "model = tf.keras.Model(inputs, output)"
   ]
  },
  {
   "cell_type": "code",
   "execution_count": 17,
   "metadata": {},
   "outputs": [],
   "source": [
    "def extract(img_path, model):\n",
    "    img = Image.open(img_path)\n",
    "    img = img.resize((224, 224))\n",
    "    img = np.array(img.getdata()).reshape(img.size[0], img.size[1], 3)\n",
    "    img = np.expand_dims(img, 0)\n",
    "    pred = model.predict(img, verbose=0).flatten()\n",
    "    return pred/np.linalg.norm(pred)"
   ]
  },
  {
   "cell_type": "code",
   "execution_count": 18,
   "metadata": {},
   "outputs": [],
   "source": [
    "def recommend(image_path, top_k=5):\n",
    "    result = extract(image_path, model)\n",
    "\n",
    "    neighbours = NearestNeighbors(n_neighbors=top_k, algorithm='brute', metric='euclidean')\n",
    "    neighbours.fit(f_vectors)\n",
    "\n",
    "    distance, indices = neighbours.kneighbors([result])\n",
    "\n",
    "    nearest_images = [file_names[i] for i in indices[0][1:]]\n",
    "    original_image = image_path\n",
    "\n",
    "    return [original_image] + nearest_images\n",
    "\n",
    "def display_images(images_path):\n",
    "    original = Image.open(images_path[0])\n",
    "    original = original.resize((224, 224))\n",
    "    images = images_path[1:]\n",
    "    images = [cv2.imread(f'Dataset/{image}') for image in images]\n",
    "    images = [cv2.resize(image, (200, 200)) for image in images]\n",
    "    images = [cv2.cvtColor(image, cv2.COLOR_BGR2RGB) for image in images]\n",
    "\n",
    "    \n",
    "    plt.figure(figsize=(4,4))\n",
    "    plt.imshow(original)\n",
    "    plt.title('Original Image', fontsize=10)\n",
    "    plt.axis('off')\n",
    "    # plt.show()\n",
    "    \n",
    "    fig, ax = plt.subplots(1, len(images), figsize=(17, 5))\n",
    "    plt.suptitle('Recommendations', fontsize=15)\n",
    "    for i, image in enumerate(images):\n",
    "        ax[i].imshow(image)\n",
    "        ax[i].axis('off')\n",
    "    plt.show()\n"
   ]
  },
  {
   "cell_type": "code",
   "execution_count": 20,
   "metadata": {},
   "outputs": [
    {
     "data": {
      "text/plain": [
       "['5405.jpg', '5402.jpg', '5404.jpg', '5403.jpg', '1831.jpg']"
      ]
     },
     "execution_count": 20,
     "metadata": {},
     "output_type": "execute_result"
    }
   ],
   "source": [
    "image_path = '5405.jpg'\n",
    "\n",
    "recommendations = recommend(image_path, top_k=5)\n",
    "recommendations\n",
    "# display_images(recommendations)\n"
   ]
  }
 ],
 "metadata": {
  "kernelspec": {
   "display_name": "aienv",
   "language": "python",
   "name": "python3"
  },
  "language_info": {
   "codemirror_mode": {
    "name": "ipython",
    "version": 3
   },
   "file_extension": ".py",
   "mimetype": "text/x-python",
   "name": "python",
   "nbconvert_exporter": "python",
   "pygments_lexer": "ipython3",
   "version": "3.10.11"
  },
  "orig_nbformat": 4
 },
 "nbformat": 4,
 "nbformat_minor": 2
}
