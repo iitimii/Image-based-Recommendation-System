{
 "cells": [
  {
   "cell_type": "code",
   "execution_count": 1,
   "metadata": {},
   "outputs": [],
   "source": [
    "import numpy as np\n",
    "import cv2\n",
    "import matplotlib.pyplot as plt\n",
    "\n",
    "import tensorflow as tf\n",
    "from tensorflow.keras.layers import GlobalMaxPooling2D, Input\n",
    "\n",
    "import pickle\n",
    "\n",
    "from sklearn.neighbors import NearestNeighbors\n",
    "from PIL import Image"
   ]
  },
  {
   "cell_type": "code",
   "execution_count": 2,
   "metadata": {},
   "outputs": [],
   "source": [
    "#Dataset from kaggle https://www.kaggle.com/datasets/vikashrajluhaniwal/fashion-images\n",
    "\n",
    "f_vectors = pickle.load(open('f_vectors.pkl', 'rb'))\n",
    "f_vectors = np.array(f_vectors)\n",
    "file_names = pickle.load(open('filenames.pkl', 'rb'))"
   ]
  },
  {
   "cell_type": "code",
   "execution_count": 3,
   "metadata": {},
   "outputs": [
    {
     "name": "stdout",
     "output_type": "stream",
     "text": [
      "Metal device set to: Apple M1\n",
      "\n",
      "systemMemory: 8.00 GB\n",
      "maxCacheSize: 2.67 GB\n",
      "\n"
     ]
    }
   ],
   "source": [
    "feature_model = tf.keras.applications.resnet50.ResNet50(weights='imagenet', include_top=False,\n",
    "                                                       input_shape=(224,224,3))\n",
    "feature_model.trainable = False\n",
    "\n",
    "preprocess_layer = tf.keras.applications.resnet50.preprocess_input\n",
    "\n",
    "inputs = Input(shape=(224,224,3))\n",
    "x = preprocess_layer(inputs)\n",
    "x = feature_model(x)\n",
    "output = GlobalMaxPooling2D()(x)\n",
    "\n",
    "model = tf.keras.Model(inputs, output)"
   ]
  },
  {
   "cell_type": "code",
   "execution_count": 11,
   "metadata": {},
   "outputs": [],
   "source": [
    "def extract(img_path, model):\n",
    "    img = Image.open(img_path)\n",
    "    img = img.resize((224, 224))\n",
    "    img = np.array(img.getdata()).reshape(img.size[0], img.size[1], 3)\n",
    "    img = np.expand_dims(img, 0)\n",
    "    pred = model.predict(img, verbose=0).flatten()\n",
    "    return pred/np.linalg.norm(pred)"
   ]
  },
  {
   "cell_type": "code",
   "execution_count": 12,
   "metadata": {},
   "outputs": [],
   "source": [
    "def recommend(image_path, top_k=5):\n",
    "    result = extract(image_path, model)\n",
    "\n",
    "    neighbours = NearestNeighbors(n_neighbors=top_k, algorithm='brute', metric='euclidean')\n",
    "    neighbours.fit(f_vectors)\n",
    "\n",
    "    distance, indices = neighbours.kneighbors([result])\n",
    "\n",
    "    nearest_images = [file_names[i] for i in indices[0][1:]]\n",
    "    original_image = image_path\n",
    "\n",
    "    return [original_image] + nearest_images\n",
    "\n",
    "def display_images(images_path):\n",
    "    original = cv2.imread(images_path[0])\n",
    "    original = cv2.cvtColor(original, cv2.COLOR_BGR2RGB)\n",
    "    original_res = cv2.resize(original, (200, 200))\n",
    "    images = images_path[1:]\n",
    "    images = [cv2.imread(f'Dataset/{image}') for image in images]\n",
    "    images = [cv2.resize(image, (200, 200)) for image in images]\n",
    "    images = [cv2.cvtColor(image, cv2.COLOR_BGR2RGB) for image in images]\n",
    "\n",
    "    \n",
    "    plt.figure(figsize=(4,4))\n",
    "    plt.imshow(original_res)\n",
    "    plt.title('Original Image', fontsize=10)\n",
    "    plt.axis('off')\n",
    "    # plt.show()\n",
    "    \n",
    "    fig, ax = plt.subplots(1, len(images), figsize=(17, 5))\n",
    "    plt.suptitle('Recommendations', fontsize=15)\n",
    "    for i, image in enumerate(images):\n",
    "        ax[i].imshow(image)\n",
    "        ax[i].axis('off')\n",
    "    plt.show()\n"
   ]
  },
  {
   "cell_type": "code",
   "execution_count": 13,
   "metadata": {},
   "outputs": [
    {
     "name": "stderr",
     "output_type": "stream",
     "text": [
      "2023-08-01 09:09:56.452428: W tensorflow/tsl/platform/profile_utils/cpu_utils.cc:128] Failed to get CPU frequency: 0 Hz\n",
      "[ WARN:0@442.132] global loadsave.cpp:244 findDecoder imread_('Dataset/5402.jpg'): can't open/read file: check file path/integrity\n",
      "[ WARN:0@442.132] global loadsave.cpp:244 findDecoder imread_('Dataset/5404.jpg'): can't open/read file: check file path/integrity\n",
      "[ WARN:0@442.133] global loadsave.cpp:244 findDecoder imread_('Dataset/5403.jpg'): can't open/read file: check file path/integrity\n",
      "[ WARN:0@442.133] global loadsave.cpp:244 findDecoder imread_('Dataset/1831.jpg'): can't open/read file: check file path/integrity\n"
     ]
    },
    {
     "ename": "error",
     "evalue": "OpenCV(4.7.0) /Users/xperience/GHA-OCV-Python/_work/opencv-python/opencv-python/opencv/modules/imgproc/src/resize.cpp:4062: error: (-215:Assertion failed) !ssize.empty() in function 'resize'\n",
     "output_type": "error",
     "traceback": [
      "\u001b[0;31m---------------------------------------------------------------------------\u001b[0m",
      "\u001b[0;31merror\u001b[0m                                     Traceback (most recent call last)",
      "Cell \u001b[0;32mIn[13], line 4\u001b[0m\n\u001b[1;32m      1\u001b[0m image_path \u001b[39m=\u001b[39m \u001b[39m'\u001b[39m\u001b[39m5405.jpg\u001b[39m\u001b[39m'\u001b[39m\n\u001b[1;32m      3\u001b[0m recommendations \u001b[39m=\u001b[39m recommend(image_path, top_k\u001b[39m=\u001b[39m\u001b[39m5\u001b[39m)\n\u001b[0;32m----> 4\u001b[0m display_images(recommendations)\n",
      "Cell \u001b[0;32mIn[12], line 20\u001b[0m, in \u001b[0;36mdisplay_images\u001b[0;34m(images_path)\u001b[0m\n\u001b[1;32m     18\u001b[0m images \u001b[39m=\u001b[39m images_path[\u001b[39m1\u001b[39m:]\n\u001b[1;32m     19\u001b[0m images \u001b[39m=\u001b[39m [cv2\u001b[39m.\u001b[39mimread(\u001b[39mf\u001b[39m\u001b[39m'\u001b[39m\u001b[39mDataset/\u001b[39m\u001b[39m{\u001b[39;00mimage\u001b[39m}\u001b[39;00m\u001b[39m'\u001b[39m) \u001b[39mfor\u001b[39;00m image \u001b[39min\u001b[39;00m images]\n\u001b[0;32m---> 20\u001b[0m images \u001b[39m=\u001b[39m [cv2\u001b[39m.\u001b[39mresize(image, (\u001b[39m200\u001b[39m, \u001b[39m200\u001b[39m)) \u001b[39mfor\u001b[39;00m image \u001b[39min\u001b[39;00m images]\n\u001b[1;32m     21\u001b[0m images \u001b[39m=\u001b[39m [cv2\u001b[39m.\u001b[39mcvtColor(image, cv2\u001b[39m.\u001b[39mCOLOR_BGR2RGB) \u001b[39mfor\u001b[39;00m image \u001b[39min\u001b[39;00m images]\n\u001b[1;32m     24\u001b[0m plt\u001b[39m.\u001b[39mfigure(figsize\u001b[39m=\u001b[39m(\u001b[39m4\u001b[39m,\u001b[39m4\u001b[39m))\n",
      "Cell \u001b[0;32mIn[12], line 20\u001b[0m, in \u001b[0;36m<listcomp>\u001b[0;34m(.0)\u001b[0m\n\u001b[1;32m     18\u001b[0m images \u001b[39m=\u001b[39m images_path[\u001b[39m1\u001b[39m:]\n\u001b[1;32m     19\u001b[0m images \u001b[39m=\u001b[39m [cv2\u001b[39m.\u001b[39mimread(\u001b[39mf\u001b[39m\u001b[39m'\u001b[39m\u001b[39mDataset/\u001b[39m\u001b[39m{\u001b[39;00mimage\u001b[39m}\u001b[39;00m\u001b[39m'\u001b[39m) \u001b[39mfor\u001b[39;00m image \u001b[39min\u001b[39;00m images]\n\u001b[0;32m---> 20\u001b[0m images \u001b[39m=\u001b[39m [cv2\u001b[39m.\u001b[39;49mresize(image, (\u001b[39m200\u001b[39;49m, \u001b[39m200\u001b[39;49m)) \u001b[39mfor\u001b[39;00m image \u001b[39min\u001b[39;00m images]\n\u001b[1;32m     21\u001b[0m images \u001b[39m=\u001b[39m [cv2\u001b[39m.\u001b[39mcvtColor(image, cv2\u001b[39m.\u001b[39mCOLOR_BGR2RGB) \u001b[39mfor\u001b[39;00m image \u001b[39min\u001b[39;00m images]\n\u001b[1;32m     24\u001b[0m plt\u001b[39m.\u001b[39mfigure(figsize\u001b[39m=\u001b[39m(\u001b[39m4\u001b[39m,\u001b[39m4\u001b[39m))\n",
      "\u001b[0;31merror\u001b[0m: OpenCV(4.7.0) /Users/xperience/GHA-OCV-Python/_work/opencv-python/opencv-python/opencv/modules/imgproc/src/resize.cpp:4062: error: (-215:Assertion failed) !ssize.empty() in function 'resize'\n"
     ]
    }
   ],
   "source": [
    "image_path = '5405.jpg'\n",
    "\n",
    "recommendations = recommend(image_path, top_k=5)\n",
    "display_images(recommendations)"
   ]
  }
 ],
 "metadata": {
  "kernelspec": {
   "display_name": "aienv",
   "language": "python",
   "name": "python3"
  },
  "language_info": {
   "codemirror_mode": {
    "name": "ipython",
    "version": 3
   },
   "file_extension": ".py",
   "mimetype": "text/x-python",
   "name": "python",
   "nbconvert_exporter": "python",
   "pygments_lexer": "ipython3",
   "version": "3.10.11"
  },
  "orig_nbformat": 4
 },
 "nbformat": 4,
 "nbformat_minor": 2
}
